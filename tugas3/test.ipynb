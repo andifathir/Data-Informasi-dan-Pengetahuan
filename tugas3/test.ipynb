{
 "cells": [
  {
   "cell_type": "code",
   "execution_count": 19,
   "metadata": {},
   "outputs": [
    {
     "name": "stdout",
     "output_type": "stream",
     "text": [
      "Informasi Struktur Dataset:\n",
      "<class 'pandas.core.frame.DataFrame'>\n",
      "RangeIndex: 20640 entries, 0 to 20639\n",
      "Data columns (total 10 columns):\n",
      " #   Column              Non-Null Count  Dtype  \n",
      "---  ------              --------------  -----  \n",
      " 0   longitude           20640 non-null  float64\n",
      " 1   latitude            20640 non-null  float64\n",
      " 2   housing_median_age  20640 non-null  int64  \n",
      " 3   total_rooms         20640 non-null  int64  \n",
      " 4   total_bedrooms      20433 non-null  float64\n",
      " 5   population          20640 non-null  int64  \n",
      " 6   households          20640 non-null  int64  \n",
      " 7   median_income       20640 non-null  float64\n",
      " 8   ocean_proximity     20640 non-null  object \n",
      " 9   median_house_value  20640 non-null  int64  \n",
      "dtypes: float64(4), int64(5), object(1)\n",
      "memory usage: 1.6+ MB\n",
      "None\n",
      "\n",
      "Deskripsi Statistik Dataset:\n",
      "          longitude      latitude  housing_median_age   total_rooms  \\\n",
      "count  20640.000000  20640.000000        20640.000000  20640.000000   \n",
      "mean    -119.569704     35.631861           28.639486   2635.763081   \n",
      "std        2.003532      2.135952           12.585558   2181.615252   \n",
      "min     -124.350000     32.540000            1.000000      2.000000   \n",
      "25%     -121.800000     33.930000           18.000000   1447.750000   \n",
      "50%     -118.490000     34.260000           29.000000   2127.000000   \n",
      "75%     -118.010000     37.710000           37.000000   3148.000000   \n",
      "max     -114.310000     41.950000           52.000000  39320.000000   \n",
      "\n",
      "       total_bedrooms    population    households  median_income  \\\n",
      "count    20433.000000  20640.000000  20640.000000   20640.000000   \n",
      "mean       537.870553   1425.476744    499.539680       3.870671   \n",
      "std        421.385070   1132.462122    382.329753       1.899822   \n",
      "min          1.000000      3.000000      1.000000       0.499900   \n",
      "25%        296.000000    787.000000    280.000000       2.563400   \n",
      "50%        435.000000   1166.000000    409.000000       3.534800   \n",
      "75%        647.000000   1725.000000    605.000000       4.743250   \n",
      "max       6445.000000  35682.000000   6082.000000      15.000100   \n",
      "\n",
      "       median_house_value  \n",
      "count        20640.000000  \n",
      "mean        206855.816909  \n",
      "std         115395.615874  \n",
      "min          14999.000000  \n",
      "25%         119600.000000  \n",
      "50%         179700.000000  \n",
      "75%         264725.000000  \n",
      "max         500001.000000  \n"
     ]
    }
   ],
   "source": [
    "# Import Library yang Dibutuhkan\n",
    "import pandas as pd\n",
    "\n",
    "# Mengimpor Dataset CSV\n",
    "df = pd.read_csv('1553768847-housing.csv')\n",
    "\n",
    "# Menampilkan Informasi Struktur Dataset\n",
    "print(\"Informasi Struktur Dataset:\")\n",
    "print(df.info())  # Menampilkan info struktur dataset\n",
    "print(\"\\nDeskripsi Statistik Dataset:\")\n",
    "print(df.describe())  # Statistik deskriptif dataset\n"
   ]
  },
  {
   "cell_type": "code",
   "execution_count": 20,
   "metadata": {},
   "outputs": [
    {
     "name": "stdout",
     "output_type": "stream",
     "text": [
      "Sebelum menangani missing values\n",
      "Jumlah Missing Values per Kolom:\n",
      "longitude               0\n",
      "latitude                0\n",
      "housing_median_age      0\n",
      "total_rooms             0\n",
      "total_bedrooms        207\n",
      "population              0\n",
      "households              0\n",
      "median_income           0\n",
      "ocean_proximity         0\n",
      "median_house_value      0\n",
      "dtype: int64\n",
      "\n",
      "Setelah menangani missing values\n",
      "Jumlah Missing Values per Kolom:\n",
      "longitude             0\n",
      "latitude              0\n",
      "housing_median_age    0\n",
      "total_rooms           0\n",
      "total_bedrooms        0\n",
      "population            0\n",
      "households            0\n",
      "median_income         0\n",
      "ocean_proximity       0\n",
      "median_house_value    0\n",
      "dtype: int64\n"
     ]
    }
   ],
   "source": [
    "# Mengidentifikasi Missing Values\n",
    "missing_values = df.isnull().sum()\n",
    "print(\"Sebelum menangani missing values\")\n",
    "print(\"Jumlah Missing Values per Kolom:\")\n",
    "print(missing_values)\n",
    "\n",
    "# Menangani Missing Values\n",
    "# Kita akan mengisi missing values pada kolom 'total_bedrooms' dengan median kolom tersebut\n",
    "df['total_bedrooms'] = df['total_bedrooms'].fillna(df['total_bedrooms'].median())\n",
    "\n",
    "missing_values = df.isnull().sum()\n",
    "print(\"\\nSetelah menangani missing values\")\n",
    "print(\"Jumlah Missing Values per Kolom:\")\n",
    "print(missing_values)\n"
   ]
  },
  {
   "cell_type": "code",
   "execution_count": 21,
   "metadata": {},
   "outputs": [
    {
     "name": "stdout",
     "output_type": "stream",
     "text": [
      "\n",
      "Deskripsi Statistik Setelah Menghapus Outliers:\n"
     ]
    },
    {
     "data": {
      "application/vnd.microsoft.datawrangler.viewer.v0+json": {
       "columns": [
        {
         "name": "index",
         "rawType": "object",
         "type": "string"
        },
        {
         "name": "longitude",
         "rawType": "float64",
         "type": "float"
        },
        {
         "name": "latitude",
         "rawType": "float64",
         "type": "float"
        },
        {
         "name": "housing_median_age",
         "rawType": "float64",
         "type": "float"
        },
        {
         "name": "total_rooms",
         "rawType": "float64",
         "type": "float"
        },
        {
         "name": "total_bedrooms",
         "rawType": "float64",
         "type": "float"
        },
        {
         "name": "population",
         "rawType": "float64",
         "type": "float"
        },
        {
         "name": "households",
         "rawType": "float64",
         "type": "float"
        },
        {
         "name": "median_income",
         "rawType": "float64",
         "type": "float"
        },
        {
         "name": "median_house_value",
         "rawType": "float64",
         "type": "float"
        }
       ],
       "conversionMethod": "pd.DataFrame",
       "ref": "ba7d2c49-3d5d-4379-b915-60731c53d06a",
       "rows": [
        [
         "count",
         "19353.0",
         "19353.0",
         "19353.0",
         "19353.0",
         "19353.0",
         "19353.0",
         "19353.0",
         "19353.0",
         "19353.0"
        ],
        [
         "mean",
         "-119.59104789955047",
         "35.6474458740247",
         "29.52219294166279",
         "2225.118792951997",
         "463.23779259029607",
         "1244.5203844365215",
         "433.4555366093112",
         "3.8127322792331944",
         "204961.34883480598"
        ],
        [
         "std",
         "2.0009040736262005",
         "2.1427958709984813",
         "12.308488951756187",
         "1153.9065657760516",
         "253.11833001011058",
         "711.4813970359678",
         "235.16394037850134",
         "1.8835602932138995",
         "115283.43343586884"
        ],
        [
         "min",
         "-124.35",
         "32.54",
         "1.0",
         "2.0",
         "1.0",
         "3.0",
         "1.0",
         "0.4999",
         "14999.0"
        ],
        [
         "25%",
         "-121.81",
         "33.94",
         "19.0",
         "1406.0",
         "289.0",
         "766.0",
         "272.0",
         "2.5275",
         "117600.0"
        ],
        [
         "50%",
         "-118.5",
         "34.26",
         "30.0",
         "2036.0",
         "419.0",
         "1118.0",
         "392.0",
         "3.4812",
         "177700.0"
        ],
        [
         "75%",
         "-118.03",
         "37.72",
         "38.0",
         "2892.0",
         "592.0",
         "1591.0",
         "557.0",
         "4.6687",
         "262200.0"
        ],
        [
         "max",
         "-114.31",
         "41.95",
         "52.0",
         "5694.0",
         "2610.0",
         "8733.0",
         "2406.0",
         "15.0001",
         "500001.0"
        ]
       ],
       "shape": {
        "columns": 9,
        "rows": 8
       }
      },
      "text/html": [
       "<div>\n",
       "<style scoped>\n",
       "    .dataframe tbody tr th:only-of-type {\n",
       "        vertical-align: middle;\n",
       "    }\n",
       "\n",
       "    .dataframe tbody tr th {\n",
       "        vertical-align: top;\n",
       "    }\n",
       "\n",
       "    .dataframe thead th {\n",
       "        text-align: right;\n",
       "    }\n",
       "</style>\n",
       "<table border=\"1\" class=\"dataframe\">\n",
       "  <thead>\n",
       "    <tr style=\"text-align: right;\">\n",
       "      <th></th>\n",
       "      <th>longitude</th>\n",
       "      <th>latitude</th>\n",
       "      <th>housing_median_age</th>\n",
       "      <th>total_rooms</th>\n",
       "      <th>total_bedrooms</th>\n",
       "      <th>population</th>\n",
       "      <th>households</th>\n",
       "      <th>median_income</th>\n",
       "      <th>median_house_value</th>\n",
       "    </tr>\n",
       "  </thead>\n",
       "  <tbody>\n",
       "    <tr>\n",
       "      <th>count</th>\n",
       "      <td>19353.000000</td>\n",
       "      <td>19353.000000</td>\n",
       "      <td>19353.000000</td>\n",
       "      <td>19353.000000</td>\n",
       "      <td>19353.000000</td>\n",
       "      <td>19353.000000</td>\n",
       "      <td>19353.000000</td>\n",
       "      <td>19353.000000</td>\n",
       "      <td>19353.000000</td>\n",
       "    </tr>\n",
       "    <tr>\n",
       "      <th>mean</th>\n",
       "      <td>-119.591048</td>\n",
       "      <td>35.647446</td>\n",
       "      <td>29.522193</td>\n",
       "      <td>2225.118793</td>\n",
       "      <td>463.237793</td>\n",
       "      <td>1244.520384</td>\n",
       "      <td>433.455537</td>\n",
       "      <td>3.812732</td>\n",
       "      <td>204961.348835</td>\n",
       "    </tr>\n",
       "    <tr>\n",
       "      <th>std</th>\n",
       "      <td>2.000904</td>\n",
       "      <td>2.142796</td>\n",
       "      <td>12.308489</td>\n",
       "      <td>1153.906566</td>\n",
       "      <td>253.118330</td>\n",
       "      <td>711.481397</td>\n",
       "      <td>235.163940</td>\n",
       "      <td>1.883560</td>\n",
       "      <td>115283.433436</td>\n",
       "    </tr>\n",
       "    <tr>\n",
       "      <th>min</th>\n",
       "      <td>-124.350000</td>\n",
       "      <td>32.540000</td>\n",
       "      <td>1.000000</td>\n",
       "      <td>2.000000</td>\n",
       "      <td>1.000000</td>\n",
       "      <td>3.000000</td>\n",
       "      <td>1.000000</td>\n",
       "      <td>0.499900</td>\n",
       "      <td>14999.000000</td>\n",
       "    </tr>\n",
       "    <tr>\n",
       "      <th>25%</th>\n",
       "      <td>-121.810000</td>\n",
       "      <td>33.940000</td>\n",
       "      <td>19.000000</td>\n",
       "      <td>1406.000000</td>\n",
       "      <td>289.000000</td>\n",
       "      <td>766.000000</td>\n",
       "      <td>272.000000</td>\n",
       "      <td>2.527500</td>\n",
       "      <td>117600.000000</td>\n",
       "    </tr>\n",
       "    <tr>\n",
       "      <th>50%</th>\n",
       "      <td>-118.500000</td>\n",
       "      <td>34.260000</td>\n",
       "      <td>30.000000</td>\n",
       "      <td>2036.000000</td>\n",
       "      <td>419.000000</td>\n",
       "      <td>1118.000000</td>\n",
       "      <td>392.000000</td>\n",
       "      <td>3.481200</td>\n",
       "      <td>177700.000000</td>\n",
       "    </tr>\n",
       "    <tr>\n",
       "      <th>75%</th>\n",
       "      <td>-118.030000</td>\n",
       "      <td>37.720000</td>\n",
       "      <td>38.000000</td>\n",
       "      <td>2892.000000</td>\n",
       "      <td>592.000000</td>\n",
       "      <td>1591.000000</td>\n",
       "      <td>557.000000</td>\n",
       "      <td>4.668700</td>\n",
       "      <td>262200.000000</td>\n",
       "    </tr>\n",
       "    <tr>\n",
       "      <th>max</th>\n",
       "      <td>-114.310000</td>\n",
       "      <td>41.950000</td>\n",
       "      <td>52.000000</td>\n",
       "      <td>5694.000000</td>\n",
       "      <td>2610.000000</td>\n",
       "      <td>8733.000000</td>\n",
       "      <td>2406.000000</td>\n",
       "      <td>15.000100</td>\n",
       "      <td>500001.000000</td>\n",
       "    </tr>\n",
       "  </tbody>\n",
       "</table>\n",
       "</div>"
      ],
      "text/plain": [
       "          longitude      latitude  housing_median_age   total_rooms  \\\n",
       "count  19353.000000  19353.000000        19353.000000  19353.000000   \n",
       "mean    -119.591048     35.647446           29.522193   2225.118793   \n",
       "std        2.000904      2.142796           12.308489   1153.906566   \n",
       "min     -124.350000     32.540000            1.000000      2.000000   \n",
       "25%     -121.810000     33.940000           19.000000   1406.000000   \n",
       "50%     -118.500000     34.260000           30.000000   2036.000000   \n",
       "75%     -118.030000     37.720000           38.000000   2892.000000   \n",
       "max     -114.310000     41.950000           52.000000   5694.000000   \n",
       "\n",
       "       total_bedrooms    population    households  median_income  \\\n",
       "count    19353.000000  19353.000000  19353.000000   19353.000000   \n",
       "mean       463.237793   1244.520384    433.455537       3.812732   \n",
       "std        253.118330    711.481397    235.163940       1.883560   \n",
       "min          1.000000      3.000000      1.000000       0.499900   \n",
       "25%        289.000000    766.000000    272.000000       2.527500   \n",
       "50%        419.000000   1118.000000    392.000000       3.481200   \n",
       "75%        592.000000   1591.000000    557.000000       4.668700   \n",
       "max       2610.000000   8733.000000   2406.000000      15.000100   \n",
       "\n",
       "       median_house_value  \n",
       "count        19353.000000  \n",
       "mean        204961.348835  \n",
       "std         115283.433436  \n",
       "min          14999.000000  \n",
       "25%         117600.000000  \n",
       "50%         177700.000000  \n",
       "75%         262200.000000  \n",
       "max         500001.000000  "
      ]
     },
     "execution_count": 21,
     "metadata": {},
     "output_type": "execute_result"
    }
   ],
   "source": [
    "# Mengidentifikasi Outliers dengan metode IQR (Interquartile Range)\n",
    "Q1 = df['total_rooms'].quantile(0.25)\n",
    "Q3 = df['total_rooms'].quantile(0.75)\n",
    "IQR = Q3 - Q1\n",
    "lower_bound = Q1 - 1.5 * IQR\n",
    "upper_bound = Q3 + 1.5 * IQR\n",
    "\n",
    "# Menghapus outliers\n",
    "df_outliers_removed = df[(df['total_rooms'] >= lower_bound) & (df['total_rooms'] <= upper_bound)]\n",
    "\n",
    "print(\"\\nDeskripsi Statistik Setelah Menghapus Outliers:\")\n",
    "df_outliers_removed.describe()\n"
   ]
  },
  {
   "cell_type": "code",
   "execution_count": 22,
   "metadata": {},
   "outputs": [
    {
     "name": "stdout",
     "output_type": "stream",
     "text": [
      "\n",
      "Jumlah Data Duplicates:\n",
      "0\n",
      "\n",
      "Jumlah Data Setelah Penghapusan Duplicates:\n",
      "19353\n"
     ]
    }
   ],
   "source": [
    "# Mengidentifikasi Data Duplicates\n",
    "duplicates = df_outliers_removed.duplicated().sum()\n",
    "print(\"\\nJumlah Data Duplicates:\")\n",
    "print(duplicates)\n",
    "\n",
    "# Menghapus Data Duplicates\n",
    "df_no_duplicates = df_outliers_removed.drop_duplicates()\n",
    "\n",
    "print(\"\\nJumlah Data Setelah Penghapusan Duplicates:\")\n",
    "print(df_no_duplicates.shape[0])\n"
   ]
  },
  {
   "cell_type": "code",
   "execution_count": 23,
   "metadata": {},
   "outputs": [
    {
     "name": "stderr",
     "output_type": "stream",
     "text": [
      "C:\\Users\\andif\\AppData\\Local\\Temp\\ipykernel_28804\\3782813053.py:7: SettingWithCopyWarning: \n",
      "A value is trying to be set on a copy of a slice from a DataFrame.\n",
      "Try using .loc[row_indexer,col_indexer] = value instead\n",
      "\n",
      "See the caveats in the documentation: https://pandas.pydata.org/pandas-docs/stable/user_guide/indexing.html#returning-a-view-versus-a-copy\n",
      "  df_pelanggan['ID'] = df_pelanggan.index\n",
      "C:\\Users\\andif\\AppData\\Local\\Temp\\ipykernel_28804\\3782813053.py:8: SettingWithCopyWarning: \n",
      "A value is trying to be set on a copy of a slice from a DataFrame.\n",
      "Try using .loc[row_indexer,col_indexer] = value instead\n",
      "\n",
      "See the caveats in the documentation: https://pandas.pydata.org/pandas-docs/stable/user_guide/indexing.html#returning-a-view-versus-a-copy\n",
      "  df_transaksi['ID'] = df_transaksi.index\n"
     ]
    },
    {
     "data": {
      "text/plain": [
       "(   longitude  latitude  median_house_value  ID  total_rooms  total_bedrooms  \\\n",
       " 0    -122.23     37.88              452600   0          880           129.0   \n",
       " 1    -122.22     37.86              358500   1         7099          1106.0   \n",
       " 2    -122.24     37.85              352100   2         1467           190.0   \n",
       " 3    -122.25     37.85              341300   3         1274           235.0   \n",
       " 4    -122.25     37.85              342200   4         1627           280.0   \n",
       " \n",
       "    households  \n",
       " 0         126  \n",
       " 1        1138  \n",
       " 2         177  \n",
       " 3         219  \n",
       " 4         259  ,\n",
       " array(['near bay', '<1h ocean', 'inland', 'near ocean', 'island'],\n",
       "       dtype=object))"
      ]
     },
     "execution_count": 23,
     "metadata": {},
     "output_type": "execute_result"
    }
   ],
   "source": [
    "# Simulasi Penggabungan Dua Dataset\n",
    "# Mengambil subset untuk pelanggan dan transaksi\n",
    "df_pelanggan = df[['longitude', 'latitude', 'median_house_value']]\n",
    "df_transaksi = df[['total_rooms', 'total_bedrooms', 'households']]\n",
    "\n",
    "# Menambahkan ID sebagai penghubung antara pelanggan dan transaksi\n",
    "df_pelanggan['ID'] = df_pelanggan.index\n",
    "df_transaksi['ID'] = df_transaksi.index\n",
    "\n",
    "# Menggabungkan kedua dataset berdasarkan ID\n",
    "df_gabungan = pd.merge(df_pelanggan, df_transaksi, on='ID', how='inner')\n",
    "\n",
    "# Menangani Inkonsistensi Data (contoh: ocean_proximity)\n",
    "# Misalnya kita ingin memastikan konsistensi penulisan 'ocean_proximity' yang mungkin memiliki inkonsistensi penulisan\n",
    "df['ocean_proximity'] = df['ocean_proximity'].str.lower()  # Mengubah menjadi huruf kecil dan menghapus spasi\n",
    "df['ocean_proximity'] = df['ocean_proximity'].str.strip()\n",
    "\n",
    "# Jika ada kolom tanggal, pastikan formatnya konsisten\n",
    "# Contoh format tanggal (jika ada kolom 'date')\n",
    "# df['tanggal'] = pd.to_datetime(df['tanggal'], errors='coerce')\n",
    "\n",
    "# Menampilkan hasil penggabungan dan koreksi inkonsistensi\n",
    "df_gabungan.head(), df['ocean_proximity'].unique()\n"
   ]
  },
  {
   "cell_type": "code",
   "execution_count": 24,
   "metadata": {},
   "outputs": [
    {
     "name": "stdout",
     "output_type": "stream",
     "text": [
      "   longitude  latitude  housing_median_age  total_rooms  total_bedrooms  \\\n",
      "0    -122.23     37.88                  41          880           129.0   \n",
      "1    -122.22     37.86                  21         7099          1106.0   \n",
      "2    -122.24     37.85                  52         1467           190.0   \n",
      "3    -122.25     37.85                  52         1274           235.0   \n",
      "4    -122.25     37.85                  52         1627           280.0   \n",
      "\n",
      "   population  households  median_income ocean_proximity  median_house_value  \n",
      "0         322         126         8.3252        near bay              452600  \n",
      "1        2401        1138         8.3014        near bay              358500  \n",
      "2         496         177         7.2574        near bay              352100  \n",
      "3         558         219         5.6431        near bay              341300  \n",
      "4         565         259         3.8462        near bay              342200  \n"
     ]
    }
   ],
   "source": [
    "print(df.head())  # Statistik deskriptif dataset"
   ]
  }
 ],
 "metadata": {
  "kernelspec": {
   "display_name": ".venv",
   "language": "python",
   "name": "python3"
  },
  "language_info": {
   "codemirror_mode": {
    "name": "ipython",
    "version": 3
   },
   "file_extension": ".py",
   "mimetype": "text/x-python",
   "name": "python",
   "nbconvert_exporter": "python",
   "pygments_lexer": "ipython3",
   "version": "3.12.3"
  }
 },
 "nbformat": 4,
 "nbformat_minor": 2
}
